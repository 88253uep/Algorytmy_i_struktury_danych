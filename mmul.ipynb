def mmul(matrix1,matrix2):
    if len(matrix1[0])==len(matrix2):
        # result = [[0 for row in range(len(matrix1))] for col in range(len(matrix2[0]))]
        result=[[0]*len(matrix2[0])]*len(matrix1)
        for row1 in range(len(matrix1)):
            for row2 in range (len(matrix2[0])):
                for col2 in range (len(matrix2)):
                    result[row1][row2]+=matrix1[row1][col2]*matrix2[col2][row2]
        return result
    else:
        return "Nie można pomnożyć macierzy"
        
print(mmul ([[1,2],[3,4]],[[1,2],[3,4]]))
