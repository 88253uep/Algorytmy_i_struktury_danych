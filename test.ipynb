{
 "cells": [
  {
   "cell_type": "markdown",
   "metadata": {},
   "source": [
    "Obydwie linijki robią to samo:"
   ]
  },
  {
   "cell_type": "code",
   "execution_count": 1,
   "metadata": {},
   "outputs": [
    {
     "data": {
      "text/plain": [
       "[[0, 0, 0], [0, 0, 0], [0, 0, 0]]"
      ]
     },
     "execution_count": 1,
     "metadata": {},
     "output_type": "execute_result"
    }
   ],
   "source": [
    "matrix1,matrix2=[[1,2],[3,4],[5,6]],[[1,2,3],[4,5,6]]\n",
    "result1=[[0]*len(matrix2[0])]*len(matrix1)\n",
    "result1"
   ]
  },
  {
   "cell_type": "code",
   "execution_count": 2,
   "metadata": {},
   "outputs": [
    {
     "data": {
      "text/plain": [
       "[[0, 0, 0], [0, 0, 0], [0, 0, 0]]"
      ]
     },
     "execution_count": 2,
     "metadata": {},
     "output_type": "execute_result"
    }
   ],
   "source": [
    "result2 = [[0 for row in range(len(matrix1))] for col in range(len(matrix2[0]))]\n",
    "result2"
   ]
  },
  {
   "cell_type": "markdown",
   "metadata": {},
   "source": [
    "Ale z jakiegoś powodu zmieniają wykonywanie się pętli:"
   ]
  },
  {
   "cell_type": "code",
   "execution_count": 3,
   "metadata": {},
   "outputs": [
    {
     "name": "stdout",
     "output_type": "stream",
     "text": [
      "[[9, 12, 15], [19, 26, 33], [29, 40, 51]]\n"
     ]
    }
   ],
   "source": [
    "def mmul(matrix1,matrix2):\n",
    "    if len(matrix1[0])==len(matrix2):\n",
    "        result = [[0 for row in range(len(matrix1))] for col in range(len(matrix2[0]))]\n",
    "        # result=[[0]*len(matrix2[0])]*len(matrix1)\n",
    "        for row1 in range(len(matrix1)):\n",
    "            for row2 in range (len(matrix2[0])):\n",
    "                for col2 in range (len(matrix2)):\n",
    "                    result[row1][row2]+=matrix1[row1][col2]*matrix2[col2][row2]\n",
    "        return result\n",
    "    else:\n",
    "        return \"Nie można pomnożyć macierzy\"\n",
    "\n",
    "print(mmul (matrix1,matrix2))"
   ]
  },
  {
   "cell_type": "markdown",
   "metadata": {},
   "source": [
    "^^^\n",
    "Poprawny wynik"
   ]
  },
  {
   "cell_type": "code",
   "execution_count": 4,
   "metadata": {},
   "outputs": [
    {
     "name": "stdout",
     "output_type": "stream",
     "text": [
      "[[57, 78, 99], [57, 78, 99], [57, 78, 99]]\n"
     ]
    }
   ],
   "source": [
    "def mmul(matrix1,matrix2):\n",
    "    if len(matrix1[0])==len(matrix2):\n",
    "        # result = [[0 for row in range(len(matrix1))] for col in range(len(matrix2[0]))]\n",
    "        result=[[0]*len(matrix2[0])]*len(matrix1)\n",
    "        for row1 in range(len(matrix1)):\n",
    "            for row2 in range (len(matrix2[0])):\n",
    "                for col2 in range (len(matrix2)):\n",
    "                    result[row1][row2]+=matrix1[row1][col2]*matrix2[col2][row2]\n",
    "        return result\n",
    "    else:\n",
    "        return \"Nie można pomnożyć macierzy\"\n",
    "\n",
    "print(mmul (matrix1,matrix2))"
   ]
  },
  {
   "cell_type": "markdown",
   "metadata": {},
   "source": [
    "^^^\n",
    "Niepoprawny wynik. Pętla zapisuje nowe wartości elementom w odpowiedniej kolumnie, ale w każdym wierszu jednocześnie."
   ]
  }
 ],
 "metadata": {
  "kernelspec": {
   "display_name": "Python 3.9.13 64-bit",
   "language": "python",
   "name": "python3"
  },
  "language_info": {
   "codemirror_mode": {
    "name": "ipython",
    "version": 3
   },
   "file_extension": ".py",
   "mimetype": "text/x-python",
   "name": "python",
   "nbconvert_exporter": "python",
   "pygments_lexer": "ipython3",
   "version": "3.9.13"
  },
  "orig_nbformat": 4,
  "vscode": {
   "interpreter": {
    "hash": "50bdf1aa3f24d5588161d0a30c64c83dee2731da57ebc06f88b8c4e90d4d55b1"
   }
  }
 },
 "nbformat": 4,
 "nbformat_minor": 2
}
